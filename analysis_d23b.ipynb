{
 "cells": [
  {
   "cell_type": "markdown",
   "source": [
    "# analysis_d23b\n",
    "Use functions in [**`d23b.py`**](d23b.py) to perform analysis and produce figures for _Unknown Dependence Between Ice Sheets Contributes Ambiguity to Sea-level Projections_.\n",
    "\n",
    "Author: Benjamin S. Grandey, 2023"
   ],
   "metadata": {
    "collapsed": false
   }
  },
  {
   "cell_type": "code",
   "execution_count": 1,
   "outputs": [
    {
     "name": "stdout",
     "output_type": "stream",
     "text": [
      "Fri May 12 12:10:11 +08 2023\r\n"
     ]
    }
   ],
   "source": [
    "! date"
   ],
   "metadata": {
    "collapsed": false,
    "ExecuteTime": {
     "end_time": "2023-05-12T04:10:11.349505Z",
     "start_time": "2023-05-12T04:10:11.201937Z"
    }
   }
  },
  {
   "cell_type": "code",
   "execution_count": 2,
   "outputs": [],
   "source": [
    "import d23b\n",
    "from pathlib import Path\n",
    "import time"
   ],
   "metadata": {
    "collapsed": false,
    "ExecuteTime": {
     "end_time": "2023-05-12T04:10:11.433381Z",
     "start_time": "2023-05-12T04:10:11.350788Z"
    }
   }
  },
  {
   "cell_type": "code",
   "execution_count": 3,
   "outputs": [
    {
     "name": "stdout",
     "output_type": "stream",
     "text": [
      "Python implementation: CPython\n",
      "Python version       : 3.10.10\n",
      "IPython version      : 8.13.1\n",
      "\n",
      "matplotlib   : 3.7.1\n",
      "numpy        : 1.24.3\n",
      "pandas       : 2.0.1\n",
      "pyvinecopulib: 0.6.3\n",
      "scipy        : 1.10.1\n",
      "seaborn      : 0.12.2\n",
      "xarray       : 2023.4.2\n",
      "\n",
      "conda environment: d23b-ice-dependence\n",
      "\n"
     ]
    }
   ],
   "source": [
    "print(d23b.get_watermark())"
   ],
   "metadata": {
    "collapsed": false,
    "ExecuteTime": {
     "end_time": "2023-05-12T04:10:11.444249Z",
     "start_time": "2023-05-12T04:10:11.435831Z"
    }
   }
  },
  {
   "cell_type": "markdown",
   "source": [
    "## Relationship between sources of uncertainty and model-based projections of the ice-sheet components\n",
    "The schematic is produced separately using [**schematic_fig_d23b.pptx**](schematic_fig_d23b.pptx): first, export from PowerPoint to `fig01.pdf` (in `figs_d23b/f_pdf/`), then export `fig01.pdf` to `fig01.png` (in `figs_d23b/f_png/`)."
   ],
   "metadata": {
    "collapsed": false
   }
  },
  {
   "cell_type": "code",
   "execution_count": 4,
   "outputs": [
    {
     "name": "stdout",
     "output_type": "stream",
     "text": [
      "Wed May  3 11:15:29 2023: schematic_fig_d23b.pptx\n",
      "Fri May 12 11:57:01 2023: fig01.pdf\n",
      "Fri May 12 11:58:17 2023: fig01.png\n"
     ]
    }
   ],
   "source": [
    "# Are the .pdf and .png versions of the schematic more recent than the .pptx version?\n",
    "schematic_pptx = Path('schematic_fig_d23b.pptx')\n",
    "fig_name = f'fig{next(d23b.f_num):02}'  # name based on counter, then update counter (in prep for next fig)\n",
    "schematic_pdf = Path(f'figs_d23b/f_pdf/{fig_name}.pdf')\n",
    "schematic_png = Path(f'figs_d23b/f_png/{fig_name}.png')\n",
    "for f in (schematic_pptx, schematic_pdf, schematic_png):\n",
    "    try:\n",
    "        print(f'{time.ctime(f.stat().st_mtime)}: {f.name}')\n",
    "    except FileNotFoundError:\n",
    "        print(f'Not found: {f.name}')"
   ],
   "metadata": {
    "collapsed": false,
    "ExecuteTime": {
     "end_time": "2023-05-12T04:10:11.449362Z",
     "start_time": "2023-05-12T04:10:11.443985Z"
    }
   }
  },
  {
   "cell_type": "code",
   "execution_count": 5,
   "outputs": [
    {
     "name": "stdout",
     "output_type": "stream",
     "text": [
      "Fri May 12 12:10:11 +08 2023\r\n"
     ]
    }
   ],
   "source": [
    "! date"
   ],
   "metadata": {
    "collapsed": false,
    "ExecuteTime": {
     "end_time": "2023-05-12T04:10:11.595211Z",
     "start_time": "2023-05-12T04:10:11.450072Z"
    }
   }
  }
 ],
 "metadata": {
  "kernelspec": {
   "display_name": "Python 3",
   "language": "python",
   "name": "python3"
  },
  "language_info": {
   "codemirror_mode": {
    "name": "ipython",
    "version": 2
   },
   "file_extension": ".py",
   "mimetype": "text/x-python",
   "name": "python",
   "nbconvert_exporter": "python",
   "pygments_lexer": "ipython2",
   "version": "2.7.6"
  }
 },
 "nbformat": 4,
 "nbformat_minor": 0
}
